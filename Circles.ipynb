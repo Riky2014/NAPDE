{
  "metadata": {
    "colab": {
      "provenance": [],
      "collapsed_sections": [
        "UHWLBC4QPixK",
        "WEPirjF-N9-i",
        "Cc63EQ-qZP7y"
      ],
      "gpuType": "T4",
      "name": "cerchi_sensitivity_Kaggle",
      "include_colab_link": true
    },
    "kernelspec": {
      "name": "python3",
      "display_name": "Python 3",
      "language": "python"
    },
    "language_info": {
      "name": "python",
      "version": "3.10.13",
      "mimetype": "text/x-python",
      "codemirror_mode": {
        "name": "ipython",
        "version": 3
      },
      "pygments_lexer": "ipython3",
      "nbconvert_exporter": "python",
      "file_extension": ".py"
    },
    "accelerator": "GPU",
    "kaggle": {
      "accelerator": "nvidiaTeslaT4",
      "dataSources": [],
      "dockerImageVersionId": 30683,
      "isInternetEnabled": true,
      "language": "python",
      "sourceType": "notebook",
      "isGpuEnabled": true
    }
  },
  "nbformat_minor": 0,
  "nbformat": 4,
  "cells": [
    {
      "cell_type": "markdown",
      "metadata": {
        "id": "view-in-github",
        "colab_type": "text"
      },
      "source": [
        "<a href=\"https://colab.research.google.com/github/Riky2014/NAPDE/blob/main/Circles.ipynb\" target=\"_parent\"><img src=\"https://colab.research.google.com/assets/colab-badge.svg\" alt=\"Open In Colab\"/></a>"
      ]
    },
    {
      "cell_type": "markdown",
      "source": [
        "# Install MONAI"
      ],
      "metadata": {
        "id": "UHWLBC4QPixK"
      }
    },
    {
      "cell_type": "code",
      "source": [
        "%%capture\n",
        "!pip install -U \"monai-weekly[fire, nibabel, yaml, tqdm, einops]\""
      ],
      "metadata": {
        "id": "rW2wnoKqvzOG",
        "execution": {
          "iopub.status.busy": "2024-04-16T09:19:14.721055Z",
          "iopub.execute_input": "2024-04-16T09:19:14.721395Z",
          "iopub.status.idle": "2024-04-16T09:19:34.403609Z",
          "shell.execute_reply.started": "2024-04-16T09:19:14.721363Z",
          "shell.execute_reply": "2024-04-16T09:19:34.402358Z"
        },
        "trusted": true
      },
      "execution_count": null,
      "outputs": []
    },
    {
      "cell_type": "markdown",
      "source": [
        "# Import and set directory"
      ],
      "metadata": {
        "id": "Cc63EQ-qZP7y"
      }
    },
    {
      "cell_type": "code",
      "source": [
        "import os\n",
        "import time\n",
        "import torch\n",
        "import tempfile\n",
        "import numpy as np\n",
        "from PIL import Image\n",
        "from glob import glob\n",
        "import matplotlib.pyplot as plt\n",
        "from nibabel import load, save, Nifti1Image\n",
        "\n",
        "import monai\n",
        "from monai.losses import DiceLoss\n",
        "from monai.metrics import DiceMetric\n",
        "from monai.utils import set_determinism\n",
        "from monai.networks.nets import SegResNet\n",
        "from monai.data import DataLoader, decollate_batch, create_test_image_2d\n",
        "\n",
        "from monai.transforms import (\n",
        "    Activations,\n",
        "    AsDiscrete,\n",
        "    Compose,\n",
        "    LoadImaged,\n",
        "    NormalizeIntensityd,\n",
        "    Orientationd,\n",
        "    RandFlipd,\n",
        "    RandScaleIntensityd,\n",
        "    RandShiftIntensityd,\n",
        "    RandSpatialCropd,\n",
        "    Spacingd,\n",
        "    EnsureTyped,\n",
        "    EnsureChannelFirstd,\n",
        ")"
      ],
      "metadata": {
        "id": "7u-pNMaGwAuN",
        "outputId": "248f62c6-28bf-4eb0-eeb0-a1c784ec410f",
        "execution": {
          "iopub.status.busy": "2024-04-16T09:19:37.84936Z",
          "iopub.execute_input": "2024-04-16T09:19:37.849779Z",
          "iopub.status.idle": "2024-04-16T09:20:20.856188Z",
          "shell.execute_reply.started": "2024-04-16T09:19:37.849745Z",
          "shell.execute_reply": "2024-04-16T09:20:20.855096Z"
        },
        "trusted": true
      },
      "execution_count": null,
      "outputs": [
        {
          "name": "stderr",
          "text": "2024-04-16 09:20:13.042405: E external/local_xla/xla/stream_executor/cuda/cuda_dnn.cc:9261] Unable to register cuDNN factory: Attempting to register factory for plugin cuDNN when one has already been registered\n2024-04-16 09:20:13.042535: E external/local_xla/xla/stream_executor/cuda/cuda_fft.cc:607] Unable to register cuFFT factory: Attempting to register factory for plugin cuFFT when one has already been registered\n2024-04-16 09:20:13.155068: E external/local_xla/xla/stream_executor/cuda/cuda_blas.cc:1515] Unable to register cuBLAS factory: Attempting to register factory for plugin cuBLAS when one has already been registered\n",
          "output_type": "stream"
        }
      ]
    },
    {
      "cell_type": "code",
      "source": [
        "directory_path = '/kaggle/working/prova_cerchi_dir'\n",
        "os.makedirs(directory_path, exist_ok = True)\n",
        "os.environ[\"MONAI_DATA_DIRECTORY\"] = directory_path\n",
        "directory = os.environ.get(\"MONAI_DATA_DIRECTORY\")\n",
        "root_dir = tempfile.mkdtemp() if directory is None else directory"
      ],
      "metadata": {
        "id": "0wfu-KSGGpo7",
        "execution": {
          "iopub.status.busy": "2024-04-16T09:20:24.047176Z",
          "iopub.execute_input": "2024-04-16T09:20:24.047557Z",
          "iopub.status.idle": "2024-04-16T09:20:24.053952Z",
          "shell.execute_reply.started": "2024-04-16T09:20:24.047529Z",
          "shell.execute_reply": "2024-04-16T09:20:24.052681Z"
        },
        "trusted": true
      },
      "execution_count": null,
      "outputs": []
    },
    {
      "cell_type": "markdown",
      "source": [
        "# Auxiliary functions\n",
        "First of all, it is necessary to execute all the cells belonging to this section."
      ],
      "metadata": {
        "id": "2KyZvYDPFay8"
      }
    },
    {
      "cell_type": "code",
      "source": [
        "def create_image_2d (n_train, n_test, noise, r_min, r_max, seed):\n",
        "  np.random.seed(seed)\n",
        "\n",
        "  for i in range(n_train + n_test):\n",
        "    image, label = create_test_image_2d(128, 128, num_seg_classes = 1, noise_max = noise, rad_min = r_min, rad_max = r_max)\n",
        "    Image.fromarray((image * 255).astype(\"uint8\")).save(os.path.join(root_dir, f\"image{i:d}.png\"))\n",
        "    Image.fromarray((label * 255).astype(\"uint8\")).save(os.path.join(root_dir, f\"label{i:d}.png\"))\n",
        "\n",
        "  set_determinism(seed=0)\n",
        "\n",
        "  images = sorted(glob(os.path.join(root_dir, \"image*.png\")))\n",
        "  labels = sorted(glob(os.path.join(root_dir, \"label*.png\")))\n",
        "  train_files = [{\"image\": image, \"label\": label} for image, label in zip(images[:n_train], labels[:n_train])]\n",
        "  val_files = [{\"image\": image, \"label\": label} for image, label in zip(images[-n_test:], labels[-n_test:])]\n",
        "\n",
        "  return train_files, val_files"
      ],
      "metadata": {
        "id": "1n5mJwLGFaFC",
        "execution": {
          "iopub.status.busy": "2024-04-16T09:20:27.10153Z",
          "iopub.execute_input": "2024-04-16T09:20:27.101919Z",
          "iopub.status.idle": "2024-04-16T09:20:27.111797Z",
          "shell.execute_reply.started": "2024-04-16T09:20:27.101889Z",
          "shell.execute_reply": "2024-04-16T09:20:27.110785Z"
        },
        "trusted": true
      },
      "execution_count": null,
      "outputs": []
    },
    {
      "cell_type": "code",
      "source": [
        "def transform(train_files, val_files):\n",
        "  train_transform = Compose([\n",
        "      LoadImaged(keys=[\"image\", \"label\"]),\n",
        "      EnsureChannelFirstd(keys=[\"image\",\"label\"]),\n",
        "      EnsureTyped(keys=[\"image\", \"label\"]),\n",
        "      Orientationd(keys=[\"image\", \"label\"], axcodes=\"RA\"),\n",
        "      Spacingd(\n",
        "          keys=[\"image\", \"label\"],\n",
        "          pixdim=(1.0, 1.0),\n",
        "          mode=(\"bilinear\", \"nearest\"),\n",
        "      ),\n",
        "      RandSpatialCropd(keys=[\"image\", \"label\"], roi_size=[128, 128], random_size=False),\n",
        "      RandFlipd(keys=[\"image\", \"label\"], prob=0.5, spatial_axis=0),\n",
        "      RandFlipd(keys=[\"image\", \"label\"], prob=0.5, spatial_axis=1),\n",
        "      NormalizeIntensityd(keys=\"image\", nonzero=True, channel_wise=True),\n",
        "      NormalizeIntensityd(keys=\"label\", divisor= 255.0),\n",
        "      RandScaleIntensityd(keys=\"image\", factors=0.1, prob=1.0),\n",
        "      RandShiftIntensityd(keys=\"image\", offsets=0.1, prob=1.0),\n",
        "  ])\n",
        "\n",
        "  val_transform = Compose([\n",
        "      LoadImaged(keys=[\"image\", \"label\"]),\n",
        "      EnsureChannelFirstd(keys=[\"image\",\"label\"]),\n",
        "      EnsureTyped(keys=[\"image\", \"label\"]),\n",
        "      Orientationd(keys=[\"image\", \"label\"], axcodes=\"RA\"),\n",
        "      Spacingd(\n",
        "          keys=[\"image\", \"label\"],\n",
        "          pixdim=(1.0, 1.0),\n",
        "          mode=(\"bilinear\", \"nearest\"),\n",
        "      ),\n",
        "      NormalizeIntensityd(keys=\"image\", nonzero=True, channel_wise=True),\n",
        "      NormalizeIntensityd(keys=\"label\", divisor= 255.0),\n",
        "  ])\n",
        "\n",
        "  train_ds = monai.data.Dataset(data=train_files, transform=train_transform)\n",
        "  train_loader = DataLoader(train_ds, batch_size=1, shuffle=True, num_workers=2)\n",
        "\n",
        "  val_ds = monai.data.Dataset(data=val_files, transform=val_transform)\n",
        "  val_loader = DataLoader(val_ds, batch_size=1, shuffle=False, num_workers=2)\n",
        "\n",
        "  return train_loader, val_loader, val_ds"
      ],
      "metadata": {
        "id": "BpJghCWtGwZy",
        "execution": {
          "iopub.status.busy": "2024-04-16T09:20:29.393171Z",
          "iopub.execute_input": "2024-04-16T09:20:29.394171Z",
          "iopub.status.idle": "2024-04-16T09:20:29.406335Z",
          "shell.execute_reply.started": "2024-04-16T09:20:29.394135Z",
          "shell.execute_reply": "2024-04-16T09:20:29.405281Z"
        },
        "trusted": true
      },
      "execution_count": null,
      "outputs": []
    },
    {
      "cell_type": "code",
      "source": [
        "def model_and_train(train_loader, val_loader, max_epochs, val_ds, filters = 16):\n",
        "  val_interval = 1\n",
        "  VAL_AMP = True\n",
        "\n",
        "  device = torch.device(\"cuda:0\")\n",
        "  model = SegResNet(\n",
        "    spatial_dims = 2,\n",
        "    blocks_down=[1, 2, 2, 4],\n",
        "    blocks_up=[1, 1, 1],\n",
        "    init_filters=filters,\n",
        "    in_channels=1,\n",
        "    out_channels=1,\n",
        "    dropout_prob=0.2,\n",
        "  ).to(device)\n",
        "\n",
        "  loss_function = DiceLoss(smooth_nr=0, smooth_dr=1e-5, squared_pred=True, to_onehot_y=False, sigmoid=True)\n",
        "  optimizer = torch.optim.Adam(model.parameters(), 1e-3, weight_decay=1e-6)\n",
        "  lr_scheduler = torch.optim.lr_scheduler.CosineAnnealingLR(optimizer, T_max=max_epochs)\n",
        "\n",
        "  dice_metric = DiceMetric(include_background=True, reduction=\"mean\")\n",
        "  dice_metric_train = DiceMetric(include_background=True, reduction=\"mean\")\n",
        "\n",
        "  post_trans = Compose([Activations(sigmoid=True), AsDiscrete(threshold=0.5)])\n",
        "\n",
        "  scaler = torch.cuda.amp.GradScaler()\n",
        "  torch.backends.cudnn.benchmark = True\n",
        "\n",
        "  epoch_loss_values = []\n",
        "  metric_values = []\n",
        "  metric_values_train = []\n",
        "  total_start = time.time()\n",
        "\n",
        "  for epoch in range(max_epochs):\n",
        "    epoch_start = time.time()\n",
        "    print(\"-\" * 10)\n",
        "    print(f\"epoch {epoch + 1}/{max_epochs}\")\n",
        "    model.train()\n",
        "    epoch_loss = 0\n",
        "    step = 0\n",
        "    for batch_data in train_loader:\n",
        "        step_start = time.time()\n",
        "        step += 1\n",
        "        inputs, labels = ( batch_data[\"image\"].to(device), batch_data[\"label\"].to(device) )\n",
        "        optimizer.zero_grad()\n",
        "\n",
        "        with torch.cuda.amp.autocast():\n",
        "            outputs = model(inputs)\n",
        "            loss = loss_function(outputs, labels)\n",
        "\n",
        "        outputs = [post_trans(i) for i in decollate_batch(outputs)]\n",
        "        labels  = [post_trans(i) for i in decollate_batch(labels)]\n",
        "        dice_metric_train(y_pred=outputs, y=labels)\n",
        "\n",
        "        scaler.scale(loss).backward()\n",
        "        scaler.step(optimizer)\n",
        "        scaler.update()\n",
        "        epoch_loss += loss.item()\n",
        "\n",
        "    metric_train = dice_metric_train.aggregate().item()\n",
        "    metric_values_train.append(metric_train)\n",
        "    dice_metric_train.reset()\n",
        "\n",
        "    lr_scheduler.step()\n",
        "    epoch_loss /= step\n",
        "    epoch_loss_values.append(epoch_loss)\n",
        "    print(f\"Loss: {epoch_loss:.4f} \\nTrain dice: {metric_train:.4f}\")\n",
        "\n",
        "    if (epoch + 1) % val_interval == 0:\n",
        "        model.eval()\n",
        "        with torch.no_grad():\n",
        "            for val_data in val_loader:\n",
        "                val_inputs, val_labels = (val_data[\"image\"].to(device),val_data[\"label\"].to(device))\n",
        "\n",
        "                val_outputs = model(val_inputs)\n",
        "                val_outputs = [post_trans(i) for i in decollate_batch(val_outputs)]\n",
        "                val_labels  = [post_trans(i) for i in decollate_batch(val_labels)]\n",
        "\n",
        "                dice_metric(y_pred=val_outputs, y=val_labels)\n",
        "\n",
        "            metric = dice_metric.aggregate().item()\n",
        "            metric_values.append(metric)\n",
        "            dice_metric.reset()\n",
        "\n",
        "            print(f\"Test dice: {metric:.4f}\")\n",
        "\n",
        "    print(f\"Time: {(time.time() - epoch_start):.4f}\")\n",
        "  total_time = time.time() - total_start\n",
        "  print(f\"Train completed, total time: {total_time}.\")\n",
        "  print()\n",
        "  print(f\"Train metric = {metric_values_train[-1]}, Test metric = {metric_values[-1]}\")\n",
        "  print()\n",
        "  print()\n",
        "\n",
        "  model.eval()\n",
        "  with torch.no_grad():\n",
        "    i = 0\n",
        "\n",
        "    val_input = val_ds[i][\"image\"].unsqueeze(0).to(device)\n",
        "\n",
        "    val_outputs = model(val_input)\n",
        "    val_outputs = post_trans(val_outputs[0])\n",
        "\n",
        "    plt.figure(\"fig\")\n",
        "    fig, (ax1, ax2, ax3) = plt.subplots(1, 3)\n",
        "\n",
        "    ax1.set_title(\"Image\")\n",
        "    ax1.imshow(val_ds[i][\"image\"][0, :, :].detach().cpu(), cmap=\"gray\")\n",
        "\n",
        "    ax2.set_title(\"Label\")\n",
        "    ax2.imshow(val_ds[i][\"label\"][0, :, :].detach().cpu())\n",
        "\n",
        "    ax3.set_title(\"Output\")\n",
        "    ax3.imshow(val_outputs[0, :, :].detach().cpu())\n",
        "\n",
        "    plt.show()\n",
        "\n",
        "  return metric_values_train[-1], metric_values[-1], epoch_loss_values[-1]"
      ],
      "metadata": {
        "id": "DsW8hL2aHkyf",
        "execution": {
          "iopub.status.busy": "2024-04-16T09:20:32.531146Z",
          "iopub.execute_input": "2024-04-16T09:20:32.532147Z",
          "iopub.status.idle": "2024-04-16T09:20:32.554989Z",
          "shell.execute_reply.started": "2024-04-16T09:20:32.532112Z",
          "shell.execute_reply": "2024-04-16T09:20:32.554017Z"
        },
        "trusted": true
      },
      "execution_count": null,
      "outputs": []
    },
    {
      "cell_type": "code",
      "source": [
        "def plot_train_dim(n_train_vec, metric_train, metric_test, loss, r_min, r_max, noise, max_epochs):\n",
        "  output_dir = '/kaggle/working/output_plots'\n",
        "  os.makedirs(output_dir, exist_ok=True)\n",
        "  plot_path = os.path.join(output_dir, f\"2D, noise = {noise}, epochs = {max_epochs}, r = ({r_min}, {r_max}).png\")\n",
        "\n",
        "  fig, ax = plt.subplots(1, 2, figsize = (12,6))\n",
        "\n",
        "  plt.subplot(1,2,1)\n",
        "  plt.plot(n_train_vec, metric_train, label = 'Train metric', marker='*')\n",
        "  plt.plot(n_train_vec, metric_test, label = 'Test metric', marker='*')\n",
        "  plt.xscale('log', base = 10)\n",
        "  plt.xlabel(\"Train set dimension\")\n",
        "  plt.title(f\"2D, noise = {noise}, epochs = {max_epochs}, r = ({r_min}, {r_max})\")\n",
        "  plt.legend()\n",
        "\n",
        "  plt.subplot(1,2,2)\n",
        "  plt.plot(n_train_vec, loss, label = 'Train loss', marker='*', color='red')\n",
        "  plt.xscale('log', base = 10)\n",
        "  plt.xlabel(\"Train set dimension\")\n",
        "  plt.title(f\"2D, noise = {noise}, epochs = {max_epochs}, r = ({r_min}, {r_max})\")\n",
        "  plt.legend()\n",
        "\n",
        "  plt.savefig(plot_path)"
      ],
      "metadata": {
        "id": "NYH8ttEGI1WE",
        "execution": {
          "iopub.status.busy": "2024-04-16T09:20:37.313631Z",
          "iopub.execute_input": "2024-04-16T09:20:37.314025Z",
          "iopub.status.idle": "2024-04-16T09:20:37.323103Z",
          "shell.execute_reply.started": "2024-04-16T09:20:37.313994Z",
          "shell.execute_reply": "2024-04-16T09:20:37.321991Z"
        },
        "trusted": true
      },
      "execution_count": null,
      "outputs": []
    },
    {
      "cell_type": "code",
      "source": [
        "def plot_noise(noise_vec, metric_train, metric_test, loss, r_min, r_max, max_epochs):\n",
        "\n",
        "  output_dir = '/kaggle/working/output_plots'\n",
        "  os.makedirs(output_dir, exist_ok=True)\n",
        "  plot_path = os.path.join(output_dir, f\"2D, epochs = {max_epochs}, r = ({r_min}, {r_max}).png\")\n",
        "\n",
        "  fig, ax = plt.subplots(1, 2, figsize = (12,6))\n",
        "\n",
        "  plt.subplot(1,2,1)\n",
        "  plt.plot(noise_vec, metric_train, label = 'Train metric', marker='*')\n",
        "  plt.plot(noise_vec, metric_test, label = 'Test metric', marker='*')\n",
        "  plt.xlabel(\"Noise\")\n",
        "  plt.title(f\"2D, epochs = {max_epochs}, r = ({r_min}, {r_max})\")\n",
        "  plt.legend()\n",
        "\n",
        "  plt.subplot(1,2,2)\n",
        "  plt.plot(noise_vec, loss, label = 'Train loss', marker='*', color='red')\n",
        "  plt.xlabel(\"Noise\")\n",
        "  plt.title(f\"2D, epochs = {max_epochs}, r = ({r_min}, {r_max})\")\n",
        "  plt.legend()\n",
        "\n",
        "  plt.savefig(plot_path)"
      ],
      "metadata": {
        "id": "IRF0086NYQMi",
        "execution": {
          "iopub.status.busy": "2024-04-16T09:20:39.973244Z",
          "iopub.execute_input": "2024-04-16T09:20:39.974097Z",
          "iopub.status.idle": "2024-04-16T09:20:39.981726Z",
          "shell.execute_reply.started": "2024-04-16T09:20:39.974065Z",
          "shell.execute_reply": "2024-04-16T09:20:39.980779Z"
        },
        "trusted": true
      },
      "execution_count": null,
      "outputs": []
    },
    {
      "cell_type": "code",
      "source": [
        "def plot_capacity(capacity_vec, metric_train, metric_test, loss, r_min, r_max, noise, max_epochs):\n",
        "\n",
        "  output_dir = '/kaggle/working/output_plots'\n",
        "  os.makedirs(output_dir, exist_ok=True)\n",
        "  plot_path = os.path.join(output_dir, f\"2D, noise = {noise}, epochs = {max_epochs}, r = ({r_min}, {r_max}).png\")\n",
        "\n",
        "  fig, ax = plt.subplots(1, 2, figsize = (12,6))\n",
        "\n",
        "  plt.subplot(1,2,1)\n",
        "  plt.plot(capacity_vec, metric_train, label = 'Train metric', marker='*')\n",
        "  plt.plot(capacity_vec, metric_test, label = 'Test metric', marker='*')\n",
        "  plt.xscale('log', base = 10)\n",
        "  plt.xlabel(\"Initial Filters\")\n",
        "  plt.title(f\"2D, noise = {noise}, epochs = {max_epochs}, r = ({r_min}, {r_max})\")\n",
        "  plt.legend()\n",
        "\n",
        "  plt.subplot(1,2,2)\n",
        "  plt.plot(capacity_vec, loss, label = 'Train loss', marker='*', color='red')\n",
        "  plt.xscale('log', base = 10)\n",
        "  plt.xlabel(\"Initial Filters\")\n",
        "  plt.title(f\"2D, noise = {noise}, epochs = {max_epochs}, r = ({r_min}, {r_max})\")\n",
        "  plt.legend()\n",
        "\n",
        "  plt.savefig(plot_path)"
      ],
      "metadata": {
        "id": "Je7oZ92lGpo9",
        "execution": {
          "iopub.status.busy": "2024-04-16T09:20:42.614624Z",
          "iopub.execute_input": "2024-04-16T09:20:42.615482Z",
          "iopub.status.idle": "2024-04-16T09:20:42.624247Z",
          "shell.execute_reply.started": "2024-04-16T09:20:42.615445Z",
          "shell.execute_reply": "2024-04-16T09:20:42.623134Z"
        },
        "trusted": true
      },
      "execution_count": null,
      "outputs": []
    },
    {
      "cell_type": "code",
      "source": [
        "def delete_image(directory_path):\n",
        "  file_list = os.listdir(directory_path)\n",
        "  for file in file_list:\n",
        "      file_path = os.path.join(directory_path, file)\n",
        "      if os.path.isfile(file_path):\n",
        "          os.remove(file_path)\n",
        "      elif os.path.isdir(file_path):\n",
        "          os.rmdir(file_path)\n",
        "  print()"
      ],
      "metadata": {
        "id": "1MfJ93KUrDSa",
        "execution": {
          "iopub.status.busy": "2024-04-16T09:20:45.659331Z",
          "iopub.execute_input": "2024-04-16T09:20:45.659698Z",
          "iopub.status.idle": "2024-04-16T09:20:45.665907Z",
          "shell.execute_reply.started": "2024-04-16T09:20:45.65967Z",
          "shell.execute_reply": "2024-04-16T09:20:45.664711Z"
        },
        "trusted": true
      },
      "execution_count": null,
      "outputs": []
    },
    {
      "cell_type": "markdown",
      "source": [
        "# Execute training\n",
        "Here we analyze the robustness of the network with respect to the training set dimension, the noise level, and the number of filters of the first convolution.\n",
        "\n",
        "Specify:\n",
        "- minimum radius (\"r_min\": int)\n",
        "- maximum radius (\"r_max\": int)\n",
        "- noise to be added (\"noise\": float)\n",
        "- training epochs (\"max_epochs\": int)"
      ],
      "metadata": {
        "id": "u7sSU8mnGZVb"
      }
    },
    {
      "cell_type": "markdown",
      "source": [
        "## Dimension train samples"
      ],
      "metadata": {
        "id": "OvgHrwmjXfEo"
      }
    },
    {
      "cell_type": "code",
      "source": [
        "n_train_vec  = [8, 16, 32, 64, 128, 256]\n",
        "n_test = 40\n",
        "\n",
        "noise = 1.5\n",
        "r_min = 6\n",
        "r_max = 10\n",
        "\n",
        "max_epochs = 40\n",
        "\n",
        "metric_values_train_vec = []\n",
        "metric_values_vec = []\n",
        "epoch_loss_values_vec = []\n",
        "\n",
        "\n",
        "for n_train in n_train_vec:\n",
        "  print()\n",
        "  print(f\"Number of training images = {n_train}\")\n",
        "  print(f\"Number of testing images = {n_test}\")\n",
        "  print()\n",
        "\n",
        "  train_files, val_files = create_image_2d(n_train, n_test, noise, r_min, r_max, n_train)\n",
        "  train_loader, val_loader, val_ds = transform(train_files, val_files)\n",
        "\n",
        "  metric_value_train, metric_value, epoch_loss_value = model_and_train(train_loader,\n",
        "                                                                       val_loader,\n",
        "                                                                       max_epochs,\n",
        "                                                                       val_ds)\n",
        "\n",
        "  metric_values_train_vec.append(metric_value_train)\n",
        "  metric_values_vec.append(metric_value)\n",
        "  epoch_loss_values_vec.append(epoch_loss_value)\n",
        "\n",
        "  delete_image(directory_path)"
      ],
      "metadata": {
        "id": "YKLf6jLuGcKp",
        "execution": {
          "iopub.status.busy": "2024-04-12T09:21:49.763569Z",
          "iopub.execute_input": "2024-04-12T09:21:49.764203Z",
          "iopub.status.idle": "2024-04-12T10:03:10.916573Z",
          "shell.execute_reply.started": "2024-04-12T09:21:49.764167Z",
          "shell.execute_reply": "2024-04-12T10:03:10.915538Z"
        },
        "trusted": true
      },
      "execution_count": null,
      "outputs": []
    },
    {
      "cell_type": "code",
      "source": [
        "plot_train_dim(n_train_vec, metric_values_train_vec, metric_values_vec, epoch_loss_values_vec, r_min, r_max, noise, max_epochs)"
      ],
      "metadata": {
        "id": "-Cpf2sl3Gpo9",
        "execution": {
          "iopub.status.busy": "2024-04-12T10:03:32.136821Z",
          "iopub.execute_input": "2024-04-12T10:03:32.137624Z",
          "iopub.status.idle": "2024-04-12T10:03:33.177003Z",
          "shell.execute_reply.started": "2024-04-12T10:03:32.137589Z",
          "shell.execute_reply": "2024-04-12T10:03:33.176088Z"
        },
        "trusted": true
      },
      "execution_count": null,
      "outputs": []
    },
    {
      "cell_type": "markdown",
      "source": [
        "## Noise"
      ],
      "metadata": {
        "id": "uTAb4JhyTSxt"
      }
    },
    {
      "cell_type": "code",
      "source": [
        "n_train = 60\n",
        "n_test = 40\n",
        "\n",
        "noise_vec = [0, 0.3, 0.6, 0.9, 1.2, 1.5, 1.8, 2.1]\n",
        "r_min = 5\n",
        "r_max = 10\n",
        "\n",
        "max_epochs = 2\n",
        "\n",
        "metric_values_train_vec = []\n",
        "metric_values_vec = []\n",
        "epoch_loss_values_vec = []\n",
        "\n",
        "\n",
        "for noise in noise_vec:\n",
        "  print()\n",
        "  print(f\"Noise = {noise}\")\n",
        "  print()\n",
        "\n",
        "  train_files, val_files = create_image_2d(n_train, n_test, noise, r_min, r_max, int(10*noise) )\n",
        "  train_loader, val_loader, val_ds = transform(train_files, val_files)\n",
        "\n",
        "  metric_value_train, metric_value, epoch_loss_value = model_and_train(train_loader,\n",
        "                                                                       val_loader,\n",
        "                                                                       max_epochs,\n",
        "                                                                       val_ds)\n",
        "\n",
        "  metric_values_train_vec.append(metric_value_train)\n",
        "  metric_values_vec.append(metric_value)\n",
        "  epoch_loss_values_vec.append(epoch_loss_value)\n",
        "\n",
        "  delete_image(directory_path)"
      ],
      "metadata": {
        "id": "jA43B-3QSR5j",
        "trusted": true
      },
      "execution_count": null,
      "outputs": []
    },
    {
      "cell_type": "code",
      "source": [
        "plot_noise(noise_vec, metric_values_train_vec, metric_values_vec, epoch_loss_values_vec, r_min, r_max, max_epochs)"
      ],
      "metadata": {
        "id": "Qg0csJa0Gpo9",
        "trusted": true
      },
      "execution_count": null,
      "outputs": []
    },
    {
      "cell_type": "markdown",
      "source": [
        "## Initial filters"
      ],
      "metadata": {
        "id": "HPIClqDXGpo9"
      }
    },
    {
      "cell_type": "code",
      "source": [
        "n_train = 60\n",
        "n_test = 40\n",
        "\n",
        "noise = 1.5\n",
        "r_min = 6\n",
        "r_max = 10\n",
        "\n",
        "max_epochs = 40\n",
        "\n",
        "capacity_vec = [2**i for i in range(3, 8)]\n",
        "\n",
        "metric_values_train_vec = []\n",
        "metric_values_vec = []\n",
        "epoch_loss_values_vec = []\n",
        "\n",
        "\n",
        "for init_filters in capacity_vec:\n",
        "  print()\n",
        "  print(f\"Initial filters = {init_filters}\")\n",
        "  print()\n",
        "\n",
        "  train_files, val_files = create_image_2d(n_train, n_test, noise, r_min, r_max, init_filters)\n",
        "  train_loader, val_loader, val_ds = transform(train_files, val_files)\n",
        "\n",
        "  metric_value_train, metric_value, epoch_loss_value = model_and_train(train_loader,\n",
        "                                                                       val_loader,\n",
        "                                                                       max_epochs,\n",
        "                                                                       val_ds,\n",
        "                                                                       init_filters)\n",
        "\n",
        "  metric_values_train_vec.append(metric_value_train)\n",
        "  metric_values_vec.append(metric_value)\n",
        "  epoch_loss_values_vec.append(epoch_loss_value)\n",
        "\n",
        "  delete_image(directory_path)"
      ],
      "metadata": {
        "id": "Ii8vch1pGpo9",
        "execution": {
          "iopub.status.busy": "2024-04-16T12:55:47.876695Z",
          "iopub.execute_input": "2024-04-16T12:55:47.877694Z"
        },
        "trusted": true
      },
      "execution_count": null,
      "outputs": []
    },
    {
      "cell_type": "code",
      "source": [
        "plot_capacity(capacity_vec,\n",
        "               metric_values_train_vec,\n",
        "               metric_values_vec,\n",
        "               epoch_loss_values_vec,\n",
        "               r_min,\n",
        "               r_max,\n",
        "               noise,\n",
        "               max_epochs)"
      ],
      "metadata": {
        "id": "4c0WTq-oGpo-",
        "outputId": "41d07910-2313-4d60-833e-b5e462c1dc57",
        "execution": {
          "iopub.status.busy": "2024-04-16T12:52:09.259373Z",
          "iopub.execute_input": "2024-04-16T12:52:09.259846Z",
          "iopub.status.idle": "2024-04-16T12:52:10.56612Z",
          "shell.execute_reply.started": "2024-04-16T12:52:09.259806Z",
          "shell.execute_reply": "2024-04-16T12:52:10.564891Z"
        },
        "trusted": true
      },
      "execution_count": null,
      "outputs": [
        {
          "output_type": "display_data",
          "data": {
            "text/plain": "<Figure size 1200x600 with 2 Axes>",
            "image/png": "[encoded data removed]"
          },
          "metadata": {}
        }
      ]
    }
  ]
}