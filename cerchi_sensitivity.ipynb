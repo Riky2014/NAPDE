{
  "nbformat": 4,
  "nbformat_minor": 0,
  "metadata": {
    "colab": {
      "provenance": [],
      "collapsed_sections": [
        "UHWLBC4QPixK",
        "WEPirjF-N9-i",
        "Cc63EQ-qZP7y"
      ],
      "gpuType": "T4",
      "include_colab_link": true
    },
    "kernelspec": {
      "name": "python3",
      "display_name": "Python 3"
    },
    "language_info": {
      "name": "python"
    },
    "accelerator": "GPU"
  },
  "cells": [
    {
      "cell_type": "markdown",
      "metadata": {
        "id": "view-in-github",
        "colab_type": "text"
      },
      "source": [
        "<a href=\"https://colab.research.google.com/github/Riky2014/NAPDE/blob/main/cerchi_sensitivity.ipynb\" target=\"_parent\"><img src=\"https://colab.research.google.com/assets/colab-badge.svg\" alt=\"Open In Colab\"/></a>"
      ]
    },
    {
      "cell_type": "markdown",
      "metadata": {
        "id": "UHWLBC4QPixK"
      },
      "source": [
        "# Install"
      ]
    },
    {
      "cell_type": "code",
      "execution_count": 1,
      "metadata": {
        "execution": {
          "iopub.execute_input": "2024-02-29T11:00:07.656855Z",
          "iopub.status.busy": "2024-02-29T11:00:07.656289Z",
          "iopub.status.idle": "2024-02-29T11:00:40.779574Z",
          "shell.execute_reply": "2024-02-29T11:00:40.778439Z",
          "shell.execute_reply.started": "2024-02-29T11:00:07.656827Z"
        },
        "id": "rW2wnoKqvzOG",
        "trusted": true
      },
      "outputs": [],
      "source": [
        "%%capture\n",
        "\n",
        "!pip install -U \"monai-weekly[fire, nibabel, yaml, tqdm, einops]\"\n",
        "!pip install GPUtil\n",
        "from GPUtil import showUtilization as gpu_usage\n",
        "gpu_usage()"
      ]
    },
    {
      "cell_type": "markdown",
      "metadata": {
        "id": "WEPirjF-N9-i"
      },
      "source": [
        "# Mount Drive"
      ]
    },
    {
      "cell_type": "code",
      "execution_count": 2,
      "metadata": {
        "colab": {
          "base_uri": "https://localhost:8080/"
        },
        "id": "5EREYLLIN8cy",
        "outputId": "c6730ece-eb24-4671-9dde-00f0112f0eaf"
      },
      "outputs": [
        {
          "output_type": "stream",
          "name": "stdout",
          "text": [
            "Mounted at /content/drive\n"
          ]
        }
      ],
      "source": [
        "from google.colab import drive\n",
        "drive.mount('/content/drive')"
      ]
    },
    {
      "cell_type": "markdown",
      "metadata": {
        "id": "Cc63EQ-qZP7y"
      },
      "source": [
        "# Import and set directory"
      ]
    },
    {
      "cell_type": "code",
      "execution_count": 3,
      "metadata": {
        "execution": {
          "iopub.execute_input": "2024-02-29T11:25:20.877099Z",
          "iopub.status.busy": "2024-02-29T11:25:20.876430Z",
          "iopub.status.idle": "2024-02-29T11:25:49.893062Z",
          "shell.execute_reply": "2024-02-29T11:25:49.892119Z",
          "shell.execute_reply.started": "2024-02-29T11:25:20.877065Z"
        },
        "id": "7u-pNMaGwAuN",
        "trusted": true
      },
      "outputs": [],
      "source": [
        "import os\n",
        "import shutil\n",
        "import tempfile\n",
        "import time\n",
        "import matplotlib.pyplot as plt\n",
        "import monai\n",
        "import numpy as np\n",
        "from glob import glob\n",
        "from monai.apps import DecathlonDataset\n",
        "from monai.config import print_config\n",
        "from monai.data import DataLoader, decollate_batch\n",
        "from monai.handlers.utils import from_engine\n",
        "from monai.losses import DiceLoss\n",
        "from monai.inferers import sliding_window_inference\n",
        "from monai.metrics import DiceMetric\n",
        "from monai.networks.nets import SegResNet\n",
        "from monai.transforms import (\n",
        "    Activations,\n",
        "    Activationsd,\n",
        "    AsDiscrete,\n",
        "    AsDiscreted,\n",
        "    Compose,\n",
        "    Invertd,\n",
        "    LoadImaged,\n",
        "    MapTransform,\n",
        "    NormalizeIntensityd,\n",
        "    Orientationd,\n",
        "    RandFlipd,\n",
        "    RandScaleIntensityd,\n",
        "    RandShiftIntensityd,\n",
        "    RandSpatialCropd,\n",
        "    Spacingd,\n",
        "    EnsureTyped,\n",
        "    EnsureChannelFirstd,\n",
        ")\n",
        "from monai.utils import set_determinism\n",
        "from nibabel import load, save, Nifti1Image\n",
        "\n",
        "import torch\n",
        "import logging\n",
        "import sys\n",
        "from PIL import Image\n",
        "from torch.utils.tensorboard import SummaryWriter\n",
        "from monai.data import create_test_image_2d, list_data_collate, decollate_batch, DataLoader\n",
        "from monai.visualize import plot_2d_or_3d_image\n",
        "\n",
        "os.environ[\"MONAI_DATA_DIRECTORY\"] = \"/content/drive/MyDrive/prova_cerchi_dir\"\n",
        "directory = os.environ.get(\"MONAI_DATA_DIRECTORY\")\n",
        "root_dir = tempfile.mkdtemp() if directory is None else directory"
      ]
    },
    {
      "cell_type": "markdown",
      "source": [
        "# Function definition"
      ],
      "metadata": {
        "id": "2KyZvYDPFay8"
      }
    },
    {
      "cell_type": "code",
      "source": [
        "def create_image_2d (n_train, n_test, noise, r_min, r_max):\n",
        "\n",
        "  for i in range(n_train + n_test):\n",
        "    image, label = create_test_image_2d(128, 128, num_seg_classes = 1, noise_max = noise, rad_min = r_min, rad_max = r_max)\n",
        "    Image.fromarray((image * 255).astype(\"uint8\")).save(os.path.join(root_dir, f\"image{i:d}.png\"))\n",
        "    Image.fromarray((label * 255).astype(\"uint8\")).save(os.path.join(root_dir, f\"label{i:d}.png\"))\n",
        "\n",
        "  set_determinism(seed=0)\n",
        "\n",
        "  images = sorted(glob(os.path.join(root_dir, \"image*.png\")))\n",
        "  labels = sorted(glob(os.path.join(root_dir, \"label*.png\")))\n",
        "  train_files = [{\"image\": image, \"label\": label} for image, label in zip(images[:n_train], labels[:n_train])]\n",
        "  val_files = [{\"image\": image, \"label\": label} for image, label in zip(images[-n_test:], labels[-n_test:])]\n",
        "\n",
        "  return train_files, val_files\n"
      ],
      "metadata": {
        "id": "1n5mJwLGFaFC"
      },
      "execution_count": 4,
      "outputs": []
    },
    {
      "cell_type": "code",
      "source": [
        "def transform(train_files, val_files):\n",
        "  train_transform = Compose(\n",
        "  [\n",
        "      LoadImaged(keys=[\"image\", \"label\"]),\n",
        "      EnsureChannelFirstd(keys=[\"image\",\"label\"]),\n",
        "      EnsureTyped(keys=[\"image\", \"label\"]),\n",
        "      Orientationd(keys=[\"image\", \"label\"], axcodes=\"RA\"),\n",
        "      Spacingd(\n",
        "          keys=[\"image\", \"label\"],\n",
        "          pixdim=(1.0, 1.0),\n",
        "          mode=(\"bilinear\", \"nearest\"),\n",
        "      ),\n",
        "      RandSpatialCropd(keys=[\"image\", \"label\"], roi_size=[128, 128], random_size=False),\n",
        "      RandFlipd(keys=[\"image\", \"label\"], prob=0.5, spatial_axis=0),\n",
        "      RandFlipd(keys=[\"image\", \"label\"], prob=0.5, spatial_axis=1),\n",
        "      NormalizeIntensityd(keys=\"image\", nonzero=True, channel_wise=True),\n",
        "      NormalizeIntensityd(keys=\"label\", divisor= 255.0),\n",
        "      RandScaleIntensityd(keys=\"image\", factors=0.1, prob=1.0),\n",
        "      RandShiftIntensityd(keys=\"image\", offsets=0.1, prob=1.0),\n",
        "  ]\n",
        "  )\n",
        "\n",
        "  val_transform = Compose(\n",
        "  [\n",
        "      LoadImaged(keys=[\"image\", \"label\"]),\n",
        "      EnsureChannelFirstd(keys=[\"image\",\"label\"]),\n",
        "      EnsureTyped(keys=[\"image\", \"label\"]),\n",
        "      Orientationd(keys=[\"image\", \"label\"], axcodes=\"RA\"),\n",
        "      Spacingd(\n",
        "          keys=[\"image\", \"label\"],\n",
        "          pixdim=(1.0, 1.0),\n",
        "          mode=(\"bilinear\", \"nearest\"),\n",
        "      ),\n",
        "      NormalizeIntensityd(keys=\"image\", nonzero=True, channel_wise=True),\n",
        "      NormalizeIntensityd(keys=\"label\", divisor= 255.0),\n",
        "  ]\n",
        "  )\n",
        "\n",
        "  train_ds = monai.data.Dataset(data=train_files, transform=train_transform)\n",
        "  train_loader = DataLoader(train_ds, batch_size=1, shuffle=True, num_workers=2)\n",
        "\n",
        "  val_ds = monai.data.Dataset(data=val_files, transform=val_transform)\n",
        "  val_loader = DataLoader(val_ds, batch_size=1, shuffle=False, num_workers=2)\n",
        "\n",
        "  return train_loader, val_loader"
      ],
      "metadata": {
        "id": "BpJghCWtGwZy"
      },
      "execution_count": 5,
      "outputs": []
    },
    {
      "cell_type": "code",
      "source": [
        "def model_and_train(train_loader, val_loader, max_epochs):\n",
        "  val_interval = 1\n",
        "  VAL_AMP = True\n",
        "\n",
        "  # standard PyTorch program style: create SegResNet, DiceLoss and Adam optimizer\n",
        "  device = torch.device(\"cuda:0\")\n",
        "  model = SegResNet(\n",
        "    spatial_dims = 2,\n",
        "    blocks_down=[1, 2, 2, 4],\n",
        "    blocks_up=[1, 1, 1],\n",
        "    init_filters=16,\n",
        "    in_channels=1,\n",
        "    out_channels=1,\n",
        "    dropout_prob=0.2,\n",
        "  ).to(device)\n",
        "  loss_function = DiceLoss(smooth_nr=0, smooth_dr=1e-5, squared_pred=True, to_onehot_y=False, sigmoid=True)\n",
        "  optimizer = torch.optim.Adam(model.parameters(), 1e-3, weight_decay=1e-7)\n",
        "  lr_scheduler = torch.optim.lr_scheduler.CosineAnnealingLR(optimizer, T_max=max_epochs)\n",
        "\n",
        "  dice_metric = DiceMetric(include_background=True, reduction=\"mean\")\n",
        "  dice_metric_train = DiceMetric(include_background=False, reduction=\"mean\")\n",
        "\n",
        "  post_trans = Compose([Activations(sigmoid=True), AsDiscrete(threshold=0.5)])\n",
        "\n",
        "  # define the inference method\n",
        "  def inference(input):\n",
        "      def _compute(input):\n",
        "          return sliding_window_inference(\n",
        "              inputs=input,\n",
        "              roi_size=(128, 128),\n",
        "              sw_batch_size=1,\n",
        "              predictor=model,\n",
        "              overlap=0.5,\n",
        "          )\n",
        "\n",
        "      if VAL_AMP:\n",
        "          with torch.cuda.amp.autocast():\n",
        "              return _compute(input)\n",
        "      else:\n",
        "          return _compute(input)\n",
        "\n",
        "  # use \"amp\" to accelerate training\n",
        "  scaler = torch.cuda.amp.GradScaler()\n",
        "  # enable \"cuDNN benchmark\"\n",
        "  torch.backends.cudnn.benchmark = True\n",
        "\n",
        "\n",
        "  best_metric = -1\n",
        "  best_metric_epoch = -1\n",
        "  best_metrics_epochs_and_time = [[], [], []]\n",
        "  epoch_loss_values = []\n",
        "  metric_values = []\n",
        "  metric_values_train = []\n",
        "\n",
        "  total_start = time.time()\n",
        "\n",
        "  for epoch in range(max_epochs):\n",
        "    epoch_start = time.time()\n",
        "    print(\"-\" * 10)\n",
        "    print(f\"epoch {epoch + 1}/{max_epochs}\")\n",
        "    model.train()\n",
        "    epoch_loss = 0\n",
        "    step = 0\n",
        "    for batch_data in train_loader:\n",
        "        step_start = time.time()\n",
        "        step += 1\n",
        "        inputs, labels = ( batch_data[\"image\"].to(device), batch_data[\"label\"].to(device) )\n",
        "        optimizer.zero_grad()\n",
        "\n",
        "        with torch.cuda.amp.autocast():\n",
        "            outputs = model(inputs)\n",
        "            loss = loss_function(outputs, labels)\n",
        "\n",
        "        outputs = [post_trans(i) for i in decollate_batch(outputs)]\n",
        "        labels = [post_trans(i) for i in decollate_batch(labels)]\n",
        "        dice_metric_train(y_pred=outputs, y=labels)\n",
        "\n",
        "        scaler.scale(loss).backward()\n",
        "        scaler.step(optimizer)\n",
        "        scaler.update()\n",
        "        epoch_loss += loss.item()\n",
        "\n",
        "    metric_train = dice_metric_train.aggregate().item()\n",
        "    metric_values_train.append(metric_train)\n",
        "    dice_metric_train.reset()\n",
        "\n",
        "    lr_scheduler.step()\n",
        "    epoch_loss /= step\n",
        "    epoch_loss_values.append(epoch_loss)\n",
        "    print(f\"epoch {epoch + 1} average loss: {epoch_loss:.4f}\")\n",
        "          #f\"\\ncurrent mean train dice: {metric_train:.4f}\")\n",
        "\n",
        "    if (epoch + 1) % val_interval == 0:\n",
        "        model.eval()\n",
        "        with torch.no_grad():\n",
        "            for val_data in val_loader:\n",
        "                val_inputs, val_labels = (\n",
        "                    val_data[\"image\"].to(device),\n",
        "                    val_data[\"label\"].to(device),\n",
        "                )\n",
        "\n",
        "                val_outputs = inference(val_inputs)\n",
        "                val_outputs = [post_trans(i) for i in decollate_batch(val_outputs)]\n",
        "                val_labels = [post_trans(i) for i in decollate_batch(val_labels)]\n",
        "\n",
        "                dice_metric(y_pred=val_outputs, y=val_labels)\n",
        "\n",
        "            metric = dice_metric.aggregate().item()\n",
        "            metric_values.append(metric)\n",
        "            dice_metric.reset()\n",
        "\n",
        "            if metric > best_metric:\n",
        "                best_metric = metric\n",
        "                best_metric_epoch = epoch + 1\n",
        "                best_metrics_epochs_and_time[0].append(best_metric)\n",
        "                best_metrics_epochs_and_time[1].append(best_metric_epoch)\n",
        "                best_metrics_epochs_and_time[2].append(time.time() - total_start)\n",
        "                torch.save(\n",
        "                    model.state_dict(),\n",
        "                    os.path.join(root_dir, \"best_metric_model.pth\"),\n",
        "                )\n",
        "                #print(\"saved new best metric model\")\n",
        "            \"\"\"\n",
        "            print(\n",
        "                f\"current epoch: {epoch + 1} current mean dice: {metric:.4f}\"\n",
        "                f\"\\nbest mean dice: {best_metric:.4f}\"\n",
        "                f\" at epoch: {best_metric_epoch}\")\n",
        "            \"\"\"\n",
        "\n",
        "    print(f\"time consuming of epoch {epoch + 1} is: {(time.time() - epoch_start):.4f}\")\n",
        "    total_time = time.time() - total_start\n",
        "  print(f\"train completed, best_metric: {best_metric:.4f} at epoch: {best_metric_epoch}, total time: {total_time}.\")\n",
        "\n",
        "  print()\n",
        "  print(f\"Train metric = {metric_values_train[-1]}, Test metric = {metric_values[-1]}\")\n",
        "  print()\n",
        "  print()\n",
        "\n",
        "  return metric_values_train[-1], metric_values[-1]"
      ],
      "metadata": {
        "id": "DsW8hL2aHkyf"
      },
      "execution_count": 8,
      "outputs": []
    },
    {
      "cell_type": "code",
      "source": [
        "def plot_metric(n_train_vec, metric_values_train_vec, metric_values_vec):\n",
        "  plt.subplots()\n",
        "  plt.plot(n_train_vec, metric_values_train_vec, label = 'Train metric')\n",
        "  plt.plot(n_train_vec, metric_values_vec, label = 'Test metric')\n",
        "  plt.xscale('log', base = 2)\n",
        "  plt.legend()"
      ],
      "metadata": {
        "id": "NYH8ttEGI1WE"
      },
      "execution_count": 11,
      "outputs": []
    },
    {
      "cell_type": "markdown",
      "source": [
        "# Codice con le funzioni"
      ],
      "metadata": {
        "id": "u7sSU8mnGZVb"
      }
    },
    {
      "cell_type": "code",
      "source": [
        "n_train_vec  = [10, 20, 40, 80, 160, 320]\n",
        "n_test = 40\n",
        "\n",
        "noise = 0\n",
        "r_min = 5\n",
        "r_max = 30\n",
        "\n",
        "max_epochs = 2\n",
        "\n",
        "metric_values_train_vec = []\n",
        "metric_values_vec = []\n",
        "\n",
        "for n_train in n_train_vec:\n",
        "\n",
        "  print(f\"Number of training images = {n_train}\")\n",
        "  print(f\"Number of testing images = {n_test}\")\n",
        "  print()\n",
        "\n",
        "  train_files, val_files = create_image_2d (n_train, n_test, noise, r_min, r_max)\n",
        "\n",
        "  train_loader, val_loader = transform(train_files, val_files)\n",
        "\n",
        "  metric_value_train, metric_value = model_and_train(train_loader, val_loader, max_epochs)\n",
        "  metric_values_train_vec.append(metric_value_train)\n",
        "  metric_values_vec.append(metric_value)"
      ],
      "metadata": {
        "id": "YKLf6jLuGcKp",
        "outputId": "0627bb96-1617-48d0-e03b-884e8543b924",
        "colab": {
          "base_uri": "https://localhost:8080/",
          "height": 1000
        }
      },
      "execution_count": 10,
      "outputs": [
        {
          "output_type": "stream",
          "name": "stdout",
          "text": [
            "Number of training images = 10\n",
            "Number of testing images = 40\n",
            "\n",
            "----------\n",
            "epoch 1/2\n",
            "epoch 1 average loss: 0.7264\n",
            "time consuming of epoch 1 is: 9.3858\n",
            "----------\n",
            "epoch 2/2\n",
            "epoch 2 average loss: 0.5680\n",
            "time consuming of epoch 2 is: 4.6408\n",
            "train completed, best_metric: 0.8907 at epoch: 2, total time: 14.029657125473022.\n",
            "\n",
            "Train metric = 0.86500084400177, Test metric = 0.8906639218330383\n",
            "\n",
            "\n",
            "Number of training images = 20\n",
            "Number of testing images = 40\n",
            "\n",
            "----------\n",
            "epoch 1/2\n",
            "epoch 1 average loss: 0.6376\n",
            "time consuming of epoch 1 is: 4.2054\n",
            "----------\n",
            "epoch 2/2\n",
            "epoch 2 average loss: 0.4896\n",
            "time consuming of epoch 2 is: 4.1461\n",
            "train completed, best_metric: 0.9061 at epoch: 2, total time: 8.352866649627686.\n",
            "\n",
            "Train metric = 0.9046344757080078, Test metric = 0.906115710735321\n",
            "\n",
            "\n",
            "Number of training images = 40\n",
            "Number of testing images = 40\n",
            "\n",
            "----------\n",
            "epoch 1/2\n",
            "epoch 1 average loss: 0.5546\n",
            "time consuming of epoch 1 is: 6.9855\n",
            "----------\n",
            "epoch 2/2\n",
            "epoch 2 average loss: 0.4132\n",
            "time consuming of epoch 2 is: 5.9452\n",
            "train completed, best_metric: 0.9194 at epoch: 2, total time: 12.93189001083374.\n",
            "\n",
            "Train metric = 0.925326943397522, Test metric = 0.9194313883781433\n",
            "\n",
            "\n",
            "Number of training images = 80\n",
            "Number of testing images = 40\n",
            "\n",
            "----------\n",
            "epoch 1/2\n",
            "epoch 1 average loss: 0.4753\n",
            "time consuming of epoch 1 is: 9.6709\n",
            "----------\n",
            "epoch 2/2\n",
            "epoch 2 average loss: 0.3300\n",
            "time consuming of epoch 2 is: 10.7775\n",
            "train completed, best_metric: 0.9604 at epoch: 2, total time: 20.450917720794678.\n",
            "\n",
            "Train metric = 0.9496089816093445, Test metric = 0.960391640663147\n",
            "\n",
            "\n",
            "Number of training images = 160\n",
            "Number of testing images = 40\n",
            "\n",
            "----------\n",
            "epoch 1/2\n",
            "epoch 1 average loss: 0.4089\n",
            "time consuming of epoch 1 is: 19.0358\n",
            "----------\n",
            "epoch 2/2\n",
            "epoch 2 average loss: 0.2888\n",
            "time consuming of epoch 2 is: 17.2769\n",
            "train completed, best_metric: 0.9439 at epoch: 1, total time: 36.31453347206116.\n",
            "\n",
            "Train metric = 0.9509967565536499, Test metric = 0.9289572834968567\n",
            "\n",
            "\n",
            "Number of training images = 320\n",
            "Number of testing images = 40\n",
            "\n",
            "----------\n",
            "epoch 1/2\n",
            "epoch 1 average loss: 0.3367\n",
            "time consuming of epoch 1 is: 33.6616\n",
            "----------\n",
            "epoch 2/2\n",
            "epoch 2 average loss: 0.2566\n",
            "time consuming of epoch 2 is: 32.0905\n",
            "train completed, best_metric: 0.9743 at epoch: 2, total time: 65.7524025440216.\n",
            "\n",
            "Train metric = 0.9664506912231445, Test metric = 0.9743099212646484\n",
            "\n",
            "\n"
          ]
        },
        {
          "output_type": "display_data",
          "data": {
            "text/plain": [
              "<Figure size 640x480 with 1 Axes>"
            ],
            "image/png": "[encoded data removed]"
          },
          "metadata": {}
        }
      ]
    },
    {
      "cell_type": "code",
      "source": [
        "plot_metric(n_train_vec, metric_values_train_vec, metric_values_vec)"
      ],
      "metadata": {
        "id": "jA43B-3QSR5j",
        "outputId": "739ee165-1875-4c36-c7c5-0ce002287e92",
        "colab": {
          "base_uri": "https://localhost:8080/",
          "height": 434
        }
      },
      "execution_count": 12,
      "outputs": [
        {
          "output_type": "display_data",
          "data": {
            "text/plain": [
              "<Figure size 640x480 with 1 Axes>"
            ],
            "image/png": "[encoded data removed]"
          },
          "metadata": {}
        }
      ]
    }
  ]
}